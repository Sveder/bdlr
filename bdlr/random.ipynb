{
 "cells": [
  {
   "cell_type": "code",
   "execution_count": 2,
   "metadata": {
    "collapsed": false
   },
   "outputs": [
    {
     "name": "stdout",
     "output_type": "stream",
     "text": [
      "102\n"
     ]
    }
   ],
   "source": [
    "import flowers.models as fm\n",
    "filtered = fm.Poem.objects.exclude(ordinal=None).order_by(\"ordinal\")\n",
    "\n",
    "for i in filtered:\n",
    "    try:\n",
    "        int(i.ordinal)\n",
    "    except:\n",
    "        i.ordinal = None\n",
    "        i.save()\n",
    "\n",
    "last_ordinal = filtered.last().ordinal + 1\n",
    "\n",
    "print last_ordinal"
   ]
  },
  {
   "cell_type": "code",
   "execution_count": 36,
   "metadata": {
    "collapsed": false
   },
   "outputs": [],
   "source": [
    "for poem in fm.Poem.objects.all():\n",
    "    if poem.image.count() and not poem.ordinal:\n",
    "        print \"ho\"\n",
    "        \n",
    "        \n"
   ]
  },
  {
   "cell_type": "code",
   "execution_count": 12,
   "metadata": {
    "collapsed": false
   },
   "outputs": [
    {
     "name": "stdout",
     "output_type": "stream",
     "text": [
      "Past Life\n"
     ]
    }
   ],
   "source": [
    "print fm.Poem.objects.exclude(ordinal=None).last().name\n"
   ]
  },
  {
   "cell_type": "code",
   "execution_count": 10,
   "metadata": {
    "collapsed": false
   },
   "outputs": [
    {
     "data": {
      "text/plain": [
       "[(1, 4),\n",
       " (5, 8),\n",
       " (9, 12),\n",
       " (13, 16),\n",
       " (17, 20),\n",
       " (21, 24),\n",
       " (25, 28),\n",
       " (29, 32),\n",
       " (33, 36),\n",
       " (37, 40),\n",
       " (41, 44),\n",
       " (45, 48),\n",
       " (49, 52),\n",
       " (53, 56),\n",
       " (57, 60),\n",
       " (61, 64),\n",
       " (65, 68),\n",
       " (69, 72),\n",
       " (73, 76),\n",
       " (77, 80),\n",
       " (81, 84),\n",
       " (85, 88),\n",
       " (89, 92),\n",
       " (93, 96),\n",
       " (97, 100)]"
      ]
     },
     "execution_count": 10,
     "metadata": {},
     "output_type": "execute_result"
    }
   ],
   "source": [
    "chunks = []\n",
    "[ (i, i + 3) for i in xrange(1, 101, 4)]"
   ]
  },
  {
   "cell_type": "code",
   "execution_count": null,
   "metadata": {
    "collapsed": true
   },
   "outputs": [],
   "source": [
    "\n"
   ]
  }
 ],
 "metadata": {
  "kernelspec": {
   "display_name": "Django Shell-Plus",
   "language": "python",
   "name": "django_extensions"
  },
  "language_info": {
   "codemirror_mode": {
    "name": "ipython",
    "version": 2
   },
   "file_extension": ".py",
   "mimetype": "text/x-python",
   "name": "python",
   "nbconvert_exporter": "python",
   "pygments_lexer": "ipython2",
   "version": "2.7.10"
  }
 },
 "nbformat": 4,
 "nbformat_minor": 0
}
